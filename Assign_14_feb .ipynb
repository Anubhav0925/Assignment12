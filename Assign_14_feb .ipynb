{
 "cells": [
  {
   "cell_type": "markdown",
   "id": "40e28581-4707-4847-a3c4-8a92dd0f9f9e",
   "metadata": {},
   "source": [
    "Q1.  what is multithreading in python? how is it used? Name the module used to handle threads in python"
   ]
  },
  {
   "cell_type": "markdown",
   "id": "9895c8be-4139-4285-bdbc-1422463ed450",
   "metadata": {},
   "source": [
    "Answere :- Multithreading is a programming technique in which multiple threads of execution run concurrently within a single process. In Python, multithreading is used to achieve parallelism, where multiple tasks can be performed at the same time.\n",
    "In Python, multithreading can be achieved using the \"threading\" module. This module provides a way to create threads and manage them. Here is an example of how multithreading can be used in Python:"
   ]
  },
  {
   "cell_type": "code",
   "execution_count": 1,
   "id": "3fc68ef8-3f6a-4b02-bf91-ed479a775218",
   "metadata": {},
   "outputs": [
    {
     "name": "stdout",
     "output_type": "stream",
     "text": [
      "1\n",
      "2\n",
      "3\n",
      "4\n",
      "5\n",
      "6\n",
      "7\n",
      "8\n",
      "9\n",
      "10\n",
      "a\n",
      "b\n",
      "c\n",
      "d\n",
      "e\n",
      "f\n",
      "g\n",
      "h\n",
      "i\n",
      "j\n",
      "Done!\n"
     ]
    }
   ],
   "source": [
    "import threading\n",
    "\n",
    "def print_numbers():\n",
    "    for i in range(1, 11):\n",
    "        print(i)\n",
    "\n",
    "def print_letters():\n",
    "    for i in range(ord('a'), ord('k')):\n",
    "        print(chr(i))\n",
    "\n",
    "# Create threads\n",
    "t1 = threading.Thread(target=print_numbers)\n",
    "t2 = threading.Thread(target=print_letters)\n",
    "\n",
    "# Start threads\n",
    "t1.start()\n",
    "t2.start()\n",
    "\n",
    "# Wait for threads to finish\n",
    "t1.join()\n",
    "t2.join()\n",
    "\n",
    "print(\"Done!\")\n"
   ]
  },
  {
   "cell_type": "markdown",
   "id": "987d56bf-0a6b-4d32-b812-17b12bc3bed7",
   "metadata": {},
   "source": [
    "In the above example, we have created two functions, \"print_numbers\" and \"print_letters\", which print numbers from 1 to 10 and letters from 'a' to 'j', respectively. We have then created two threads, one for each function, using the \"Thread\" class from the \"threading\" module. Finally, we have started the threads using the \"start\" method and waited for them to finish using the \"join\" method."
   ]
  },
  {
   "cell_type": "markdown",
   "id": "6946b83b-a010-4b8f-b1f4-de35f5635e41",
   "metadata": {},
   "source": [
    "Here, both threads run concurrently and print their respective output simultaneously.\n",
    "\n",
    "In summary, multithreading in Python allows us to execute multiple threads concurrently to achieve parallelism. The \"threading\" module is used to create and manage threads in Python."
   ]
  },
  {
   "cell_type": "markdown",
   "id": "80f5ff4a-fbf9-44a0-a03d-c2dc45050346",
   "metadata": {},
   "source": [
    "Q2. why threading module used? rite the use of the following functions:\n",
    "\n",
    "1. activeCount()\n",
    "2. currentThread()\n",
    "3. enumerate()"
   ]
  },
  {
   "cell_type": "markdown",
   "id": "97f66724-e81a-4d7d-8924-a255575175b3",
   "metadata": {},
   "source": [
    "Answere :- The threading module is used in Python for creating and managing threads to achieve parallelism. It provides a way to create multiple threads of execution within a single process, allowing tasks to run concurrently and potentially speeding up program execution.\n",
    "Here are the uses of the following functions in the threading module:\n",
    "1. 'active_count()': This function returns the number of Thread objects that are active and currently running. It can be used to check the number of active threads at any point in time. For example:"
   ]
  },
  {
   "cell_type": "code",
   "execution_count": 2,
   "id": "d6891e13-3d1f-4950-8da0-1047f8476271",
   "metadata": {},
   "outputs": [
    {
     "name": "stdout",
     "output_type": "stream",
     "text": [
      "This is my thread\n",
      "This is my thread\n",
      "Active threads: 8\n"
     ]
    }
   ],
   "source": [
    "import threading\n",
    "\n",
    "def my_function():\n",
    "    print(\"This is my thread\")\n",
    "\n",
    "t1 = threading.Thread(target=my_function)\n",
    "t2 = threading.Thread(target=my_function)\n",
    "\n",
    "t1.start()\n",
    "t2.start()\n",
    "\n",
    "print(\"Active threads:\", threading.active_count())\n"
   ]
  },
  {
   "cell_type": "markdown",
   "id": "a15807da-777e-4085-b92c-1486a4e2cbdf",
   "metadata": {},
   "source": [
    "In the above code, we have created two threads and started them. Then, we have used the 'active_count()' function to print the number of active threads at that point in time. The output will beIn the above code, we have created two threads and started them. Then, we have used the active_count() function to print the number of active threads at that point in time. The output will be"
   ]
  },
  {
   "cell_type": "markdown",
   "id": "d32995f0-c53a-4bbb-ba4f-a7ec73ff9a34",
   "metadata": {},
   "source": [
    "2. current_thread(): This function returns the current Thread object that is calling it. It can be used to get the details of the current thread, such as its name, ID, and status. For example:"
   ]
  },
  {
   "cell_type": "code",
   "execution_count": 3,
   "id": "ab6462a7-7ea9-4186-bea4-2c42788335ee",
   "metadata": {},
   "outputs": [
    {
     "name": "stdout",
     "output_type": "stream",
     "text": [
      "Thread name: Thread-9 (my_function)\n",
      "Thread ID: 140569439364672\n"
     ]
    }
   ],
   "source": [
    "import threading\n",
    "\n",
    "def my_function():\n",
    "    print(\"Thread name:\", threading.current_thread().name)\n",
    "    print(\"Thread ID:\", threading.current_thread().ident)\n",
    "\n",
    "t1 = threading.Thread(target=my_function)\n",
    "\n",
    "t1.start()\n",
    "t1.join()\n"
   ]
  },
  {
   "cell_type": "markdown",
   "id": "b14383e1-1a2b-4218-ae3a-c53c12179b2d",
   "metadata": {},
   "source": [
    "3. enumerate(): This function returns a list of all Thread objects that are currently active. It can be used to get a list of all threads and their details. For example:"
   ]
  },
  {
   "cell_type": "code",
   "execution_count": 4,
   "id": "941ceb07-3183-41f8-933d-e242c1d6e134",
   "metadata": {},
   "outputs": [
    {
     "name": "stdout",
     "output_type": "stream",
     "text": [
      "This is my thread\n",
      "This is my thread\n",
      "Thread name: MainThread\n",
      "Thread name: IOPub\n",
      "Thread name: Heartbeat\n",
      "Thread name: Thread-3 (_watch_pipe_fd)\n",
      "Thread name: Thread-4 (_watch_pipe_fd)\n",
      "Thread name: Control\n",
      "Thread name: IPythonHistorySavingThread\n",
      "Thread name: Thread-2\n"
     ]
    }
   ],
   "source": [
    "import threading\n",
    "\n",
    "def my_function():\n",
    "    print(\"This is my thread\")\n",
    "\n",
    "t1 = threading.Thread(target=my_function)\n",
    "t2 = threading.Thread(target=my_function)\n",
    "\n",
    "t1.start()\n",
    "t2.start()\n",
    "\n",
    "for thread in threading.enumerate():\n",
    "    print(\"Thread name:\", thread.name)\n",
    "\n",
    "t1.join()\n",
    "t2.join()\n"
   ]
  },
  {
   "cell_type": "markdown",
   "id": "f462dc76-0d12-4898-88b8-fbd999470432",
   "metadata": {},
   "source": [
    "In the above code, we have created two threads and started them. Then, we have used the 'enumerate()' function to print the name of all active threads."
   ]
  },
  {
   "cell_type": "markdown",
   "id": "126ac4f1-4cb8-45ef-939c-aa239f77d043",
   "metadata": {},
   "source": [
    "Q3. Explain the following functions\n",
    "1. run()\n",
    "2. start()\n",
    "3. join()\n",
    "4. isAlive()"
   ]
  },
  {
   "cell_type": "markdown",
   "id": "49295ed3-fb95-49e9-ba51-b73412d3cfe7",
   "metadata": {},
   "source": [
    "Answere :-  In Python's threading module, the following functions are used for managing threads:\n",
    "\n",
    "1. 'run()': This method is used to specify the code that should be executed when a thread is started. It should be overridden in a subclass of the Thread class. The 'run()' method is automatically called by the 'start()' method of the Thread class.\n",
    "For example, let's say we want to create a new thread that prints \"Hello, world!\". We can create a new thread subclass that overrides the 'run()' method to print the message"
   ]
  },
  {
   "cell_type": "code",
   "execution_count": 5,
   "id": "6d0a7aed-dd7a-472b-bb8c-a46ed6546bda",
   "metadata": {},
   "outputs": [
    {
     "name": "stdout",
     "output_type": "stream",
     "text": [
      "Hello, world!\n"
     ]
    }
   ],
   "source": [
    "import threading\n",
    "\n",
    "class MyThread(threading.Thread):\n",
    "    def run(self):\n",
    "        print(\"Hello, world!\")\n",
    "\n",
    "t = MyThread()\n",
    "t.start()\n"
   ]
  },
  {
   "cell_type": "markdown",
   "id": "c8cf0e63-e35a-44b7-a029-5b9138b6cdd7",
   "metadata": {},
   "source": [
    "2. 'start()' is a method that is used to start a thread. When this method is called, it will call the 'run()' method of the thread and the thread will start executing. It is important to note that you should never call the 'run()' method directly. Instead, you should always use the 'start()' method to start a thread.\n",
    "3. 'join()' is a method that is used to wait for a thread to complete its execution. When this method is called, the current thread will wait for the specified thread to complete its execution before continuing. If no timeout is specified, the current thread will block indefinitely until the specified thread completes. If a timeout is specified, the current thread will wait for the specified time and then continue executing even if the specified thread has not completed.\n",
    "4. 'isAlive()' is a method that is used to check whether a thread is currently executing or not. When this method is called, it will return 'True' if the thread is still executing and 'False' otherwise. This method can be used to determine whether a thread has completed its execution or not."
   ]
  },
  {
   "cell_type": "markdown",
   "id": "61b82e94-12f0-4094-a35e-334cfca9bf42",
   "metadata": {},
   "source": [
    "Q4. write a python program to create two threads. Thread one must print the list of squares and thread\n",
    "   two must print the list of cubes"
   ]
  },
  {
   "cell_type": "code",
   "execution_count": 11,
   "id": "40933161-9dba-45cd-8b77-f046f0eabf99",
   "metadata": {},
   "outputs": [
    {
     "name": "stdout",
     "output_type": "stream",
     "text": [
      "[1, 4, 9, 16, 25, 36, 49, 64, 81, 100]\n",
      "[1, 8, 27, 64, 125, 216, 343, 512, 729, 1000]\n",
      "Done!\n"
     ]
    }
   ],
   "source": [
    "#Answere \n",
    "import threading\n",
    "\n",
    "def print_squares():\n",
    "    l1 = []\n",
    "    for i in range(1, 11):\n",
    "        l1.append(i*i)\n",
    "    print(l1)\n",
    "\n",
    "def print_cubes():\n",
    "    l2 = []\n",
    "    for i in range(1, 11):\n",
    "        l2.append(i*i*i)\n",
    "    print(l2)\n",
    "\n",
    "# Create threads\n",
    "t1 = threading.Thread(target=print_squares)\n",
    "t2 = threading.Thread(target=print_cubes)\n",
    "\n",
    "# Start threads\n",
    "#for i in t1:\n",
    "t1.start()\n",
    "#for j in t2:\n",
    "t2.start()\n",
    "\n",
    "# Wait for threads to finish\n",
    "#t1.join()\n",
    "#t2.join()\n",
    "\n",
    "print(\"Done!\")\n",
    "\n"
   ]
  },
  {
   "cell_type": "markdown",
   "id": "42e3388d-54ac-4bb5-89cb-4266769c8dca",
   "metadata": {},
   "source": [
    "Q5. State advantages and disadvantages of multithreading"
   ]
  },
  {
   "cell_type": "markdown",
   "id": "27ee2cf6-492b-45e6-871d-2eba608a38b8",
   "metadata": {},
   "source": [
    "Answere :- Following are some of the common advantages of multithreading:\n",
    "\n",
    "i) Enhanced performance by decreased development time\n",
    "ii) Simplified and streamlined program coding\n",
    "iii) Improvised GUI responsiveness\n",
    "iv) Simultaneous and parallelized occurrence of tasks\n",
    "v) Better use of cache storage by utilization of resources\n",
    "vi) Decreased cost of maintenance\n",
    "vii) Better use of CPU resource\n",
    "\n"
   ]
  },
  {
   "cell_type": "markdown",
   "id": "6bc92fba-33d0-43a2-8346-959aae0bd30c",
   "metadata": {},
   "source": [
    "Disadvantages of a Multithreaded/Multicontexted Application\n",
    "\n",
    "i) Difficulty of writing code\n",
    "Multithreaded and multicontexted applications are not easy to write. Only experienced programmers should undertake coding for these types of applications.\n",
    "\n",
    "\n",
    "ii) Difficulty of debugging\n",
    "It is much harder to replicate an error in a multithreaded or multicontexted application than it is to do so in a single-threaded, single-contexted application. As a result, it is more difficult, in the former case, to identify and verify root causes when errors occur.\n",
    "\n",
    "\n",
    "iii) Difficulty of managing concurrency\n",
    "The task of managing concurrency among threads is difficult and has the potential to introduce new problems into an application.\n",
    "\n",
    "\n",
    "iv) Difficulty of testing\n",
    "Testing a multithreaded application is more difficult than testing a single-threaded application because defects are often timing-related and more difficult to reproduce.\n",
    "\n",
    "\n",
    "v) Difficulty of porting existing code\n",
    "Existing code often requires significant re-architecting to take advantage of multithreading and multicontexting. Programmers need to:\n",
    "\n",
    "\n",
    "Remove static variables\n",
    "\n",
    "Replace any function calls that are not thread-safe\n",
    "\n",
    "Replace any other code that is not thread-safe"
   ]
  },
  {
   "cell_type": "markdown",
   "id": "b6f17ca5-91f6-403f-b241-41795561fd08",
   "metadata": {},
   "source": [
    "Q6. Explain deadlocks and race conditions."
   ]
  },
  {
   "cell_type": "markdown",
   "id": "9d71fb70-267f-4838-a37a-58e5f82e1038",
   "metadata": {},
   "source": [
    "Answere :-  A race condition is an undesirable situation that occurs when a device or system attempts to perform two or more operations at the same time, but because of the nature of the device or system, the operations must be done in the proper sequence to be done correctly.\n",
    "Race conditions are most commonly associated with computer science and programming. They occur when two computer program processes, or threads, attempt to access the same resource at the same time and cause problems in the system.\n",
    " types of race conditions:\n",
    " \n",
    "1. A critical race condition will cause the end state of the device, system or program to change. For example, if flipping two light switches connected to a common light at the same time blows the circuit, it is considered a critical race condition. In software, a critical race condition is when a situation results in a bug with unpredictable or undefined behavior.\n",
    "2. A noncritical race condition does not directly affect the end state of the system, device or program. In the light example, if the light is off and flipping both switches simultaneously turns the light on and has the same effect as flipping one switch, then it is a noncritical race condition. In software, a noncritical race condition does not result in a bug.\n",
    "\n",
    "Deadlocks Conditions :- In the field of computer science, deadlock refers to a specific situation at a time planning, when no progress can be made and the system is locked in it current situation. In many cases, the condition is caused by a lack of, or mistreatment, communication between different locking devices (for thread synchronization purposes). Deadlock is also defined by the conditions that the corresponding system must have at the same time for a deadlock. These issues were first raised by the media computer scientist Edward G. Coffman, Jr., and as a result became known as the Coffman conditions."
   ]
  },
  {
   "cell_type": "code",
   "execution_count": null,
   "id": "2fd71a47-b2fe-4c25-a359-bc165679efdd",
   "metadata": {},
   "outputs": [],
   "source": []
  }
 ],
 "metadata": {
  "kernelspec": {
   "display_name": "Python 3 (ipykernel)",
   "language": "python",
   "name": "python3"
  },
  "language_info": {
   "codemirror_mode": {
    "name": "ipython",
    "version": 3
   },
   "file_extension": ".py",
   "mimetype": "text/x-python",
   "name": "python",
   "nbconvert_exporter": "python",
   "pygments_lexer": "ipython3",
   "version": "3.10.8"
  }
 },
 "nbformat": 4,
 "nbformat_minor": 5
}
